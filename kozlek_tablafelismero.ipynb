{
 "cells": [
  {
   "cell_type": "code",
   "execution_count": 1,
   "metadata": {},
   "outputs": [],
   "source": [
    "import numpy as np \n",
    "import pandas as pd \n",
    "import matplotlib.pyplot as plt\n",
    "import tensorflow as tf\n",
    "import cv2\n",
    "from PIL import Image\n",
    "import os\n",
    "\n",
    "from keras.utils import to_categorical\n",
    "from keras.models import Sequential\n",
    "from keras.layers import Conv2D, MaxPool2D, Dense, Flatten, Dropout"
   ]
  },
  {
   "cell_type": "code",
   "execution_count": 2,
   "metadata": {},
   "outputs": [],
   "source": [
    "#plottolo fuggveny\n",
    "import matplotlib.pyplot as plt\n",
    "\n",
    "def plot_images(x, n):\n",
    "    for i in range(n):\n",
    "        plt.axis(\"off\")\n",
    "        plt.imshow(x[i])\n",
    "        plt.show()"
   ]
  },
  {
   "cell_type": "code",
   "execution_count": 3,
   "metadata": {},
   "outputs": [
    {
     "name": "stdout",
     "output_type": "stream",
     "text": [
      "GTSRB/Final_Training/12/\n",
      " \n",
      "GTSRB/Final_Training/13/\n",
      " \n",
      "GTSRB/Final_Training/14/\n",
      " \n",
      "GTSRB/Final_Training/15/\n",
      " \n"
     ]
    }
   ],
   "source": [
    "data=[]\n",
    "labels=[]\n",
    "\n",
    "height = 30\n",
    "width = 30\n",
    "channels = 3\n",
    "n_inputs = height * width*channels\n",
    "\n",
    "#12 - Foutvonal\n",
    "#13 - Elsobbsegadas kotelezo\n",
    "#14 - STOP\n",
    "#15 - Mindket iranybol behajtani tilos\n",
    "\n",
    "for i in range(12, 16) :\n",
    "    path = \"GTSRB/Final_Training/{}/\".format(i)\n",
    "    print(path)\n",
    "    Class=os.listdir(path)\n",
    "    for a in Class:\n",
    "        try:\n",
    "            image=cv2.imread(path+a)\n",
    "            image_from_array = Image.fromarray(image, 'RGB')\n",
    "            size_image = image_from_array.resize((height, width))\n",
    "            data.append(np.array(size_image))\n",
    "            labels.append(i-12)\n",
    "        except AttributeError:\n",
    "            print(\" \")\n",
    "            \n",
    "Cells=np.array(data)\n",
    "labels=np.array(labels)\n",
    "\n",
    "s=np.arange(Cells.shape[0])\n",
    "np.random.seed(4)\n",
    "np.random.shuffle(s)\n",
    "Cells=Cells[s]\n",
    "labels=labels[s]"
   ]
  },
  {
   "cell_type": "code",
   "execution_count": 4,
   "metadata": {},
   "outputs": [],
   "source": [
    "# Tanitasi es validacios keszlet felosztasa (80-20)\n",
    "(X_train,X_val)=Cells[(int)(0.2*len(labels)):],Cells[:(int)(0.2*len(labels))]\n",
    "X_train = X_train.astype('float32')/255 \n",
    "X_val = X_val.astype('float32')/255\n",
    "(y_train,y_val)=labels[(int)(0.2*len(labels)):],labels[:(int)(0.2*len(labels))]\n",
    "\n",
    "#one hote encoding hasznalata\n",
    "y_train = to_categorical(y_train, 4)\n",
    "y_val = to_categorical(y_val, 4)"
   ]
  },
  {
   "cell_type": "code",
   "execution_count": 5,
   "metadata": {},
   "outputs": [
    {
     "data": {
      "text/plain": [
       "4536"
      ]
     },
     "execution_count": 5,
     "metadata": {},
     "output_type": "execute_result"
    }
   ],
   "source": [
    "len(X_train)"
   ]
  },
  {
   "cell_type": "code",
   "execution_count": 6,
   "metadata": {},
   "outputs": [
    {
     "name": "stdout",
     "output_type": "stream",
     "text": [
      "[0. 0. 1. 0.]\n"
     ]
    }
   ],
   "source": [
    "print(y_train[0])"
   ]
  },
  {
   "cell_type": "code",
   "execution_count": 7,
   "metadata": {},
   "outputs": [],
   "source": [
    "#https://adventuresinmachinelearning.com/keras-tutorial-cnn-11-lines/\n",
    "input_shape = X_train.shape[1:] # (30,30,3)\n",
    "\n",
    "model = Sequential()\n",
    "model.add(Conv2D(32, kernel_size=(5, 5), strides=(1, 1), activation='relu', input_shape=input_shape))\n",
    "model.add(MaxPool2D(pool_size=(2, 2), strides=(2, 2)))\n",
    "model.add(Conv2D(64, (5, 5), activation='relu'))\n",
    "model.add(MaxPool2D(pool_size=(2, 2)))\n",
    "model.add(Flatten())\n",
    "model.add(Dense(1000, activation='relu'))\n",
    "model.add(Dense(4, activation='softmax'))\n",
    "\n",
    "model.compile(loss='categorical_crossentropy', optimizer='adam', metrics=['accuracy'])"
   ]
  },
  {
   "cell_type": "code",
   "execution_count": 8,
   "metadata": {},
   "outputs": [
    {
     "name": "stdout",
     "output_type": "stream",
     "text": [
      "Epoch 1/2\n",
      "142/142 [==============================] - 6s 41ms/step - loss: 0.1730 - accuracy: 0.9405 - val_loss: 0.0364 - val_accuracy: 0.9894\n",
      "Epoch 2/2\n",
      "142/142 [==============================] - 6s 40ms/step - loss: 0.0210 - accuracy: 0.9929 - val_loss: 0.0095 - val_accuracy: 0.9974\n",
      "Modell tanítási ideje: 12.28 s\n"
     ]
    }
   ],
   "source": [
    "import time\n",
    "\n",
    "epochs = 2\n",
    "\n",
    "start = time.time()\n",
    "\n",
    "history = model.fit(X_train, y_train, batch_size=32, epochs=epochs, validation_data=(X_val, y_val))\n",
    "\n",
    "end = time.time()\n",
    "print(\"Modell tanítási ideje: {:.2f} s\".format(end-start))"
   ]
  },
  {
   "cell_type": "code",
   "execution_count": 9,
   "metadata": {},
   "outputs": [
    {
     "name": "stderr",
     "output_type": "stream",
     "text": [
      "WARNING: Logging before flag parsing goes to stderr.\n",
      "W1219 15:00:08.474111  2024 deprecation.py:323] From <ipython-input-9-c5955bcb48c0>:21: Sequential.predict_classes (from tensorflow.python.keras.engine.sequential) is deprecated and will be removed after 2021-01-01.\n",
      "Instructions for updating:\n",
      "Please use instead:* `np.argmax(model.predict(x), axis=-1)`,   if your model does multi-class classification   (e.g. if it uses a `softmax` last-layer activation).* `(model.predict(x) > 0.5).astype(\"int32\")`,   if your model does binary classification   (e.g. if it uses a `sigmoid` last-layer activation).\n"
     ]
    }
   ],
   "source": [
    "test = pd.read_csv('GTSRB/GT-final_test.csv', sep=';')\n",
    "\n",
    "X_test = []\n",
    "y_test = []\n",
    "for file_name, class_id in zip(list(test['Filename']), list(test['ClassId'])):\n",
    "    if class_id>=12 and class_id<=15:\n",
    "        path = os.path.join('GTSRB/Final_Test/', file_name)\n",
    "        try:\n",
    "            image=cv2.imread(path)\n",
    "            image_from_array = Image.fromarray(image, 'RGB')\n",
    "            size_image = image_from_array.resize((height, width))\n",
    "            X_test.append(np.array(size_image))\n",
    "            y_test.append(class_id-12)\n",
    "        except AttributeError:\n",
    "            print(\" \")\n",
    "\n",
    "y_test = np.array(y_test)        \n",
    "X_test = np.array(X_test)\n",
    "X_test = X_test.astype('float32')/255 \n",
    "\n",
    "pred = model.predict_classes(X_test)"
   ]
  },
  {
   "cell_type": "code",
   "execution_count": 10,
   "metadata": {},
   "outputs": [
    {
     "name": "stdout",
     "output_type": "stream",
     "text": [
      "Pontosság a tesztkészleten: 98.89 %\n"
     ]
    }
   ],
   "source": [
    "#Pontossag a tesztkeszleten\n",
    "from sklearn.metrics import accuracy_score\n",
    "acc = accuracy_score(y_test, pred)\n",
    "print(\"Pontosság a tesztkészleten: {:.2f} %\".format(acc*100))"
   ]
  },
  {
   "cell_type": "code",
   "execution_count": 11,
   "metadata": {},
   "outputs": [
    {
     "name": "stdout",
     "output_type": "stream",
     "text": [
      "Ellenséges példák generálási ideje az FGSM módszerrel: 1.53 s\n",
      "test acc on FGM adversarial examples (%): 7.72\n"
     ]
    }
   ],
   "source": [
    "from cleverhans.future.tf2.attacks import fast_gradient_method, projected_gradient_descent\n",
    "\n",
    "from absl import app, flags\n",
    "FLAGS = flags.FLAGS\n",
    "\n",
    "#ellenseges peldak generalasa FGSM\n",
    "start = time.time()\n",
    "\n",
    "x_fgm = fast_gradient_method(model, X_test, 0.2, np.inf)\n",
    "\n",
    "end = time.time()\n",
    "print(\"Ellenséges példák generálási ideje az FGSM módszerrel: {:.2f} s\".format(end-start))\n",
    "\n",
    "test_acc_fgsm = tf.metrics.SparseCategoricalAccuracy()\n",
    "\n",
    "y_pred_fgm = model(x_fgm)\n",
    "test_acc_fgsm(y_test, y_pred_fgm)\n",
    "print('test acc on FGM adversarial examples (%): {:.2f}'.format(test_acc_fgsm.result() * 100))"
   ]
  },
  {
   "cell_type": "code",
   "execution_count": 12,
   "metadata": {},
   "outputs": [
    {
     "name": "stdout",
     "output_type": "stream",
     "text": [
      "Ellenséges példák generálási ideje a PGD módszerrel: 38.79 s\n",
      "test acc on PGD adversarial examples (%): 1.06\n"
     ]
    }
   ],
   "source": [
    "#ellenseges peldak generalasa PGD\n",
    "start = time.time()\n",
    "\n",
    "x_pgd = projected_gradient_descent(model, X_test, 0.2, 0.01, 40, np.inf)\n",
    "\n",
    "end = time.time()\n",
    "print(\"Ellenséges példák generálási ideje a PGD módszerrel: {:.2f} s\".format(end-start))\n",
    "\n",
    "test_acc_pgd = tf.metrics.SparseCategoricalAccuracy()\n",
    "\n",
    "y_pred_pgd = model(x_pgd)\n",
    "test_acc_pgd(y_test, y_pred_pgd)\n",
    "print('test acc on PGD adversarial examples (%): {:.2f}'.format(test_acc_pgd.result() * 100))"
   ]
  },
  {
   "cell_type": "code",
   "execution_count": 13,
   "metadata": {
    "scrolled": true
   },
   "outputs": [
    {
     "data": {
      "image/png": "[encoded data removed]",
      "text/plain": [
       "<Figure size 432x288 with 1 Axes>"
      ]
     },
     "metadata": {
      "needs_background": "light"
     },
     "output_type": "display_data"
    },
    {
     "data": {
      "image/png": "[encoded data removed]",
      "text/plain": [
       "<Figure size 432x288 with 1 Axes>"
      ]
     },
     "metadata": {
      "needs_background": "light"
     },
     "output_type": "display_data"
    },
    {
     "data": {
      "image/png": "[encoded data removed]",
      "text/plain": [
       "<Figure size 432x288 with 1 Axes>"
      ]
     },
     "metadata": {
      "needs_background": "light"
     },
     "output_type": "display_data"
    },
    {
     "data": {
      "image/png": "[encoded data removed]",
      "text/plain": [
       "<Figure size 432x288 with 1 Axes>"
      ]
     },
     "metadata": {
      "needs_background": "light"
     },
     "output_type": "display_data"
    },
    {
     "data": {
      "image/png": "[encoded data removed]",
      "text/plain": [
       "<Figure size 432x288 with 1 Axes>"
      ]
     },
     "metadata": {
      "needs_background": "light"
     },
     "output_type": "display_data"
    }
   ],
   "source": [
    "plot_images(X_test, 5)"
   ]
  },
  {
   "cell_type": "code",
   "execution_count": 14,
   "metadata": {
    "scrolled": true
   },
   "outputs": [
    {
     "name": "stderr",
     "output_type": "stream",
     "text": [
      "W1219 15:00:52.957944  2024 image.py:648] Clipping input data to the valid range for imshow with RGB data ([0..1] for floats or [0..255] for integers).\n"
     ]
    },
    {
     "data": {
      "image/png": "[encoded data removed]",
      "text/plain": [
       "<Figure size 432x288 with 1 Axes>"
      ]
     },
     "metadata": {
      "needs_background": "light"
     },
     "output_type": "display_data"
    },
    {
     "name": "stderr",
     "output_type": "stream",
     "text": [
      "W1219 15:00:53.034874  2024 image.py:648] Clipping input data to the valid range for imshow with RGB data ([0..1] for floats or [0..255] for integers).\n"
     ]
    },
    {
     "data": {
      "image/png": "[encoded data removed]",
      "text/plain": [
       "<Figure size 432x288 with 1 Axes>"
      ]
     },
     "metadata": {
      "needs_background": "light"
     },
     "output_type": "display_data"
    },
    {
     "name": "stderr",
     "output_type": "stream",
     "text": [
      "W1219 15:00:53.121193  2024 image.py:648] Clipping input data to the valid range for imshow with RGB data ([0..1] for floats or [0..255] for integers).\n"
     ]
    },
    {
     "data": {
      "image/png": "[encoded data removed]",
      "text/plain": [
       "<Figure size 432x288 with 1 Axes>"
      ]
     },
     "metadata": {
      "needs_background": "light"
     },
     "output_type": "display_data"
    },
    {
     "name": "stderr",
     "output_type": "stream",
     "text": [
      "W1219 15:00:53.208658  2024 image.py:648] Clipping input data to the valid range for imshow with RGB data ([0..1] for floats or [0..255] for integers).\n"
     ]
    },
    {
     "data": {
      "image/png": "[encoded data removed]",
      "text/plain": [
       "<Figure size 432x288 with 1 Axes>"
      ]
     },
     "metadata": {
      "needs_background": "light"
     },
     "output_type": "display_data"
    },
    {
     "name": "stderr",
     "output_type": "stream",
     "text": [
      "W1219 15:00:53.298184  2024 image.py:648] Clipping input data to the valid range for imshow with RGB data ([0..1] for floats or [0..255] for integers).\n"
     ]
    },
    {
     "data": {
      "image/png": "[encoded data removed]",
      "text/plain": [
       "<Figure size 432x288 with 1 Axes>"
      ]
     },
     "metadata": {
      "needs_background": "light"
     },
     "output_type": "display_data"
    }
   ],
   "source": [
    "plot_images(x_fgm, 5)"
   ]
  },
  {
   "cell_type": "code",
   "execution_count": 15,
   "metadata": {
    "scrolled": true
   },
   "outputs": [
    {
     "name": "stderr",
     "output_type": "stream",
     "text": [
      "W1219 15:00:53.406239  2024 image.py:648] Clipping input data to the valid range for imshow with RGB data ([0..1] for floats or [0..255] for integers).\n"
     ]
    },
    {
     "data": {
      "image/png": "[encoded data removed]",
      "text/plain": [
       "<Figure size 432x288 with 1 Axes>"
      ]
     },
     "metadata": {
      "needs_background": "light"
     },
     "output_type": "display_data"
    },
    {
     "name": "stderr",
     "output_type": "stream",
     "text": [
      "W1219 15:00:53.491283  2024 image.py:648] Clipping input data to the valid range for imshow with RGB data ([0..1] for floats or [0..255] for integers).\n"
     ]
    },
    {
     "data": {
      "image/png": "[encoded data removed]",
      "text/plain": [
       "<Figure size 432x288 with 1 Axes>"
      ]
     },
     "metadata": {
      "needs_background": "light"
     },
     "output_type": "display_data"
    },
    {
     "name": "stderr",
     "output_type": "stream",
     "text": [
      "W1219 15:00:53.590138  2024 image.py:648] Clipping input data to the valid range for imshow with RGB data ([0..1] for floats or [0..255] for integers).\n"
     ]
    },
    {
     "data": {
      "image/png": "[encoded data removed]",
      "text/plain": [
       "<Figure size 432x288 with 1 Axes>"
      ]
     },
     "metadata": {
      "needs_background": "light"
     },
     "output_type": "display_data"
    },
    {
     "name": "stderr",
     "output_type": "stream",
     "text": [
      "W1219 15:00:53.682015  2024 image.py:648] Clipping input data to the valid range for imshow with RGB data ([0..1] for floats or [0..255] for integers).\n"
     ]
    },
    {
     "data": {
      "image/png": "[encoded data removed]",
      "text/plain": [
       "<Figure size 432x288 with 1 Axes>"
      ]
     },
     "metadata": {
      "needs_background": "light"
     },
     "output_type": "display_data"
    },
    {
     "name": "stderr",
     "output_type": "stream",
     "text": [
      "W1219 15:00:53.769514  2024 image.py:648] Clipping input data to the valid range for imshow with RGB data ([0..1] for floats or [0..255] for integers).\n"
     ]
    },
    {
     "data": {
      "image/png": "[encoded data removed]",
      "text/plain": [
       "<Figure size 432x288 with 1 Axes>"
      ]
     },
     "metadata": {
      "needs_background": "light"
     },
     "output_type": "display_data"
    }
   ],
   "source": [
    "plot_images(x_pgd,5)"
   ]
  }
 ],
 "metadata": {
  "kernelspec": {
   "display_name": "Python 3.6 (tensorflow)",
   "language": "python",
   "name": "tensorflow"
  },
  "language_info": {
   "codemirror_mode": {
    "name": "ipython",
    "version": 3
   },
   "file_extension": ".py",
   "mimetype": "text/x-python",
   "name": "python",
   "nbconvert_exporter": "python",
   "pygments_lexer": "ipython3",
   "version": "3.6.8"
  }
 },
 "nbformat": 4,
 "nbformat_minor": 2
}
